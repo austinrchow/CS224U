{
 "cells": [
  {
   "cell_type": "markdown",
   "metadata": {},
   "source": [
    "# Emotion Analysis for Screenplays"
   ]
  },
  {
   "cell_type": "code",
   "execution_count": 1,
   "metadata": {},
   "outputs": [],
   "source": [
    "import os\n",
    "import re\n",
    "import paralleldots\n",
    "import numpy as np\n",
    "import matplotlib.pyplot as plt\n",
    "from nltk import tokenize\n",
    "from nltk import sent_tokenize\n",
    "from scipy.stats import linregress\n",
    "\n",
    "api_key = \"Y20zGrNXKCAEHNAZm61l2EEutnnvNLgacWuaT1rr19U\"\n",
    "paralleldots.set_api_key(api_key)\n"
   ]
  },
  {
   "cell_type": "code",
   "execution_count": 55,
   "metadata": {},
   "outputs": [],
   "source": [
    "def parse():\n",
    "    for root, dirs, files in os.walk('imsdb'):\n",
    "        for file in files:\n",
    "            if file != \".DS_Store\":\n",
    "                sentences = []\n",
    "                path = root + \"/\" + file\n",
    "    #path = \"imsdb/Adventure/adventuresofbuckaroobanzaiacrosstheeighthdimensionthe.txt\"\n",
    "                curr_string = \"\"\n",
    "                with open(path, 'r') as f:\n",
    "                    for line in f:\n",
    "                        line = line.strip() # deletes all leading white spaces/tabs/newlines from front/back\n",
    "                        if len(line) > 1 and not line.isupper(): # we only want to copy lines that have something in it\n",
    "                            #sentence_parts_sentence = \"\"\n",
    "                            #sentence_parts_sentence = re.sub(r'\\b[A-Z]+\\b', '', line) # replace all capital letters with nothing\n",
    "                            line = line.lower()\n",
    "                            sentence_parts_temp = re.split(r\"[.!?]\", line) # split by end of sentence\n",
    "                            sentence_parts = []\n",
    "                            for sentence in sentence_parts_temp:\n",
    "                                sentence_parts.append(sentence.strip())\n",
    "                            sentence_parts = [x for x in sentence_parts if x]\n",
    "                            if len(sentence_parts) > 0:\n",
    "                                curr_string += \" \" + sentence_parts[0]\n",
    "                                curr_string = curr_string.strip()\n",
    "                                if len(sentence_parts) == 1:\n",
    "                                    if line.endswith(\".\") or line.endswith(\"?\") or line.endswith(\"!\") or line.endswith(\"...\"):\n",
    "                                        sentences = check_length(curr_string, sentences)\n",
    "                                        curr_string = \"\"\n",
    "                                else:\n",
    "                                    sentences = check_length(curr_string, sentences)\n",
    "                                    for i in range(1, len(sentence_parts)-1):\n",
    "                                        sentences = check_length(sentence_parts[i], sentences)\n",
    "                                    if line.endswith(\".\") or line.endswith(\"?\") or line.endswith(\"!\") or line.endswith(\"...\"):\n",
    "                                        sentences = check_length(sentence_parts[-1], sentences)\n",
    "                                        curr_string = \"\"\n",
    "                                    else:\n",
    "                                        curr_string = sentence_parts[-1]\n",
    "\n",
    "            \n",
    "                path_output = \"parsed2_imsdb/\" + root.split('/')[-1] + \"/\" + file\n",
    "        \n",
    "                with open(path_output, \"w\") as text_file:\n",
    "                    for sentence in sentences:\n",
    "                        print(\"{}\".format(sentence), file=text_file)\n",
    "\n",
    "def check_length(sentence, sentences):\n",
    "    sentence = sentence.replace('\\'','')\n",
    "    sentence = ' '.join(re.sub(\"(@[A-Za-z0-9]+)|([^A-Za-z \\t])|(\\w+:\\/\\/\\S+)\", \" \", sentence).split())\n",
    "    words_in_sentence = sentence.split()\n",
    "    if (len(words_in_sentence) > 2): \n",
    "        if (len(words_in_sentence) > 30):\n",
    "            first = words_in_sentence[:30]\n",
    "            first = ' '.join(first)\n",
    "            sentences.append(first.strip())\n",
    "            if (len(words_in_sentence[30:]) > 2):\n",
    "                second = words_in_sentence[30:]\n",
    "                second = ' '.join(second)\n",
    "                sentences.append(second.strip())\n",
    "        else:\n",
    "            sentences.append(sentence)\n",
    "    return sentences\n",
    "    "
   ]
  },
  {
   "cell_type": "code",
   "execution_count": 44,
   "metadata": {},
   "outputs": [],
   "source": [
    "def create_list():\n",
    "    fileName = \"parsed_imsdb/Action/2012.txt\"\n",
    "    file = open(fileName, 'r')\n",
    "    script_as_list = []\n",
    "    for line in file.readlines():\n",
    "        line = line.strip()\n",
    "        script_as_list.append(line)\n",
    "    return script_as_list"
   ]
  },
  {
   "cell_type": "code",
   "execution_count": 47,
   "metadata": {},
   "outputs": [],
   "source": [
    "def emotional_analysis(script_list):\n",
    "    results = paralleldots.batch_emotion(script_list)\n",
    "    print(results)\n",
    "    list_of_lines = results[\"emotion\"]\n",
    "    major_emotions = []\n",
    "    for line in list_of_lines:\n",
    "        new_dict = {}\n",
    "        for key, val in line.items():\n",
    "            if val > 0.25:\n",
    "                new_dict[key] = val\n",
    "        major_emotions.append(new_dict)\n",
    "    print(major_emotions)\n",
    "    \n",
    "    "
   ]
  },
  {
   "cell_type": "code",
   "execution_count": 56,
   "metadata": {},
   "outputs": [],
   "source": [
    "out = parse()"
   ]
  },
  {
   "cell_type": "code",
   "execution_count": 114,
   "metadata": {},
   "outputs": [],
   "source": [
    "def graphEmotions(data):\n",
    "    data = np.loadtxt(data)\n",
    "    averages = []\n",
    "    averages2 = []\n",
    "    num_points = int(data[:,1].shape[0]/40)\n",
    "    \n",
    "    first_emotion = data[:,1]\n",
    "    print(num_points)\n",
    "    for i in range(num_points):\n",
    "        average = np.mean(first_emotion[i*40:i*40+40])\n",
    "        averages.append(average)\n",
    "    plt.plot(averages)\n",
    "    \n",
    "    second_emotion = data[:,4]\n",
    "    print(num_points)\n",
    "    for i in range(num_points):\n",
    "        average2 = np.mean(second_emotion[i*40:i*40+40])\n",
    "        averages2.append(average2)\n",
    "    plt.plot(averages2)\n",
    "    plt.ylabel('probability')\n",
    "    plt.show()\n",
    "    plt.savefig('hangoverworry.png')"
   ]
  },
  {
   "cell_type": "code",
   "execution_count": 115,
   "metadata": {},
   "outputs": [
    {
     "name": "stdout",
     "output_type": "stream",
     "text": [
      "50\n",
      "50\n"
     ]
    },
    {
     "data": {
      "image/png": "[encoded data removed]",
      "text/plain": [
       "<Figure size 432x288 with 1 Axes>"
      ]
     },
     "metadata": {
      "needs_background": "light"
     },
     "output_type": "display_data"
    },
    {
     "data": {
      "text/plain": [
       "<Figure size 432x288 with 0 Axes>"
      ]
     },
     "metadata": {},
     "output_type": "display_data"
    }
   ],
   "source": [
    "graphEmotions(\"hangover_emotion.txt\")"
   ]
  },
  {
   "cell_type": "code",
   "execution_count": 64,
   "metadata": {},
   "outputs": [],
   "source": [
    "def extractFeatures1_2(data):\n",
    "    \n",
    "    #Sadness, Worry, Love, Hate, Happiness Neutral\n",
    "    \n",
    "    data = np.loadtxtt(data)\n",
    "    # feature 1: means of each emotion for particular movie\n",
    "    average_emotion = np.mean(data, axis=0)\n",
    "    print(average_emotion)\n",
    "    \n",
    "    # feature 2: slope of of each emotion for particular movie\n",
    "    x_points = list(range(data.shape[0])) \n",
    "    slope_emotion = []\n",
    "    for emotion in range(len(data[1])):\n",
    "        y_points = data[:,emotion]\n",
    "        slope_emotion.append(linregress(x_points, y_points).slope)\n",
    "    print(slope_emotion)"
   ]
  },
  {
   "cell_type": "code",
   "execution_count": 65,
   "metadata": {},
   "outputs": [
    {
     "name": "stdout",
     "output_type": "stream",
     "text": [
      "[0.10353284 0.1878703  0.05754881 0.03819915 0.24470522 0.36814368]\n",
      "[1.4610870748545322e-05, 7.70095290392072e-06, 3.2689280965193053e-06, 6.903290363704038e-06, -1.290503400627907e-05, -1.9579008615428344e-05]\n"
     ]
    }
   ],
   "source": [
    "extractFeatures1_2(\"hangover_emotion.txt\")"
   ]
  },
  {
   "cell_type": "code",
   "execution_count": 27,
   "metadata": {},
   "outputs": [],
   "source": [
    "def extractFeatures3_4(data):\n",
    "    data = np.loadtxt(data)\n",
    "    # feature 3: means of each emotion in each act for particular movie\n",
    "    # feature 4: slopes of each emotion per act\n",
    "    index_1 = int(data.shape[0] / 4)\n",
    "    index_2 = 3 * index_1\n",
    "    \n",
    "    \n",
    "    # --- first act \n",
    "    average_emotion_first_act = np.mean(data[:index_1], axis = 0)\n",
    "    x_points = list(range(index_1))\n",
    "     \n",
    "    slope_emotion_first_act = []\n",
    "    for emotion in range(len(data[1])):\n",
    "        y_points = data[:index_1,emotion]\n",
    "        slope_emotion_first_act.append(linregress(x_points, y_points).slope)\n",
    "    \n",
    "    print(average_emotion_first_act)\n",
    "    print(slope_emotion_first_act)\n",
    "    \n",
    "    # --- second act \n",
    "    average_emotion_sec_act = np.mean(data[index_1:index_2], axis = 0)\n",
    "    x_points = list(range(index_1, index_2))\n",
    "     \n",
    "    slope_emotion_sec_act = []\n",
    "    for emotion in range(len(data[1])):\n",
    "        y_points = data[index_1:index_2,emotion]\n",
    "        slope_emotion_sec_act.append(linregress(x_points, y_points).slope)\n",
    "        \n",
    "    print(average_emotion_sec_act)\n",
    "    print(slope_emotion_sec_act)\n",
    "    \n",
    "    # --- third act \n",
    "    average_emotion_third_act = np.mean(data[index_2:], axis = 0)\n",
    "    x_points = list(range(index_2, data.shape[0]))\n",
    "     \n",
    "    slope_emotion_third_act = []\n",
    "    for emotion in range(len(data[1])):\n",
    "        y_points = data[index_2:,emotion]\n",
    "        slope_emotion_third_act.append(linregress(x_points, y_points).slope)\n",
    "        \n",
    "    \n",
    "    print(average_emotion_third_act)\n",
    "    print(slope_emotion_third_act)"
   ]
  },
  {
   "cell_type": "code",
   "execution_count": 28,
   "metadata": {},
   "outputs": [
    {
     "name": "stdout",
     "output_type": "stream",
     "text": [
      "[0.46280353 0.51355233 0.50768747 0.51067228 0.49410022 0.49588014\n",
      " 0.48053664 0.51161197 0.52453371 0.47090209]\n",
      "[0.00018697855679963382, 3.315758404256073e-05, -0.0001729084400798247, 0.00019486429792831922, -2.3838390676227267e-05, -5.829327046844163e-05, -0.00014113892735357941, -0.00029054038593338176, -0.00035992053247385495, 0.0001889921867861994]\n",
      "[0.48776677 0.49312562 0.50255933 0.49941153 0.47300864 0.50168402\n",
      " 0.51594907 0.49991331 0.50108272 0.48595735]\n",
      "[2.14457995124766e-05, 9.692988740554117e-06, -2.1145394148904543e-05, -2.791069207125088e-05, -8.413569299201653e-06, 0.00012293955334349526, 2.093060440467724e-05, -0.0002536255444440617, 0.0002203114892986951, 1.8369579496563643e-05]\n",
      "[0.49203077 0.52060631 0.50769928 0.47689804 0.48494529 0.47453712\n",
      " 0.50036289 0.52492963 0.47533807 0.51376894]\n",
      "[0.0002254294052559273, -0.00018442859078595793, 8.450113545479885e-05, -0.0002664449135317764, -0.00044570574241557223, -0.0004581289956326012, -2.1623118444215268e-05, 0.0005638877666934528, 0.0002035781511427327, 0.0001130272426133226]\n"
     ]
    }
   ],
   "source": [
    "extractFeatures3_4(\"fakedata.txt\")"
   ]
  },
  {
   "cell_type": "code",
   "execution_count": 29,
   "metadata": {},
   "outputs": [],
   "source": [
    "def extractFeatures5(data):\n",
    "    data = np.loadtxt(data)\n",
    "    #feature 5: deltas betwen average emotions of each of 8 sequences\n",
    "    seq_length = int(data.shape[0] / 8)\n",
    "    midpoint_delta = np.zeros((8,10)) # 8 sequences, 10 deltas for each emotion\n",
    "    sec_act_delta = np.zeros((8,10))\n",
    "    \n",
    "    #find average of midpoint\n",
    "    average_mp = np.mean(data[int((data.shape[0]/2)-(seq_length/2)):int((data.shape[0]/2)+(seq_length/2))], axis = 0)\n",
    "    \n",
    "    #find average of end of second act\n",
    "    average_sec = np.mean(data[int((data.shape[0]*3/4)-(seq_length/2)):int((data.shape[0]*3/4)+(seq_length/2))], axis = 0)\n",
    "    \n",
    "    for i in range(8):\n",
    "        j = i*seq_length\n",
    "        average_emotion = np.mean(data[j:j+seq_length], axis = 0)\n",
    "        delta_mp = average_mp - average_emotion\n",
    "        delta_sec = average_sec - average_emotion\n",
    "        midpoint_delta[i] = delta_mp\n",
    "        sec_act_delta[i] = delta_sec\n",
    "    print(midpoint_delta)\n",
    "    print(sec_act_delta)\n",
    "\n",
    "    "
   ]
  },
  {
   "cell_type": "code",
   "execution_count": 30,
   "metadata": {},
   "outputs": [
    {
     "name": "stdout",
     "output_type": "stream",
     "text": [
      "[[ 0.03030897 -0.03377186 -0.04134749  0.05101785 -0.02962277  0.0106099\n",
      "   0.00459769 -0.07630363 -0.04813729  0.01835624]\n",
      " [ 0.00464245 -0.07343714 -0.01510347  0.02502149 -0.00239055  0.01307237\n",
      "   0.04498301 -0.0333917  -0.00145579 -0.02787318]\n",
      " [ 0.00387116 -0.02823258 -0.0442923   0.04550211 -0.01424491  0.0108502\n",
      "  -0.03206779 -0.09344069  0.04412425 -0.00293584]\n",
      " [-0.02677885 -0.0512433   0.00047888  0.05718295  0.0337554   0.04247584\n",
      "   0.01363281 -0.07315265  0.00809033 -0.04433346]\n",
      " [ 0.01251247 -0.01958913 -0.03321928  0.02654029  0.00281597 -0.02231939\n",
      "   0.00335651 -0.01963137 -0.01491863 -0.01833687]\n",
      " [-0.01955493 -0.03364611 -0.01535665  0.06789633 -0.00198679 -0.00685762\n",
      "  -0.02740983  0.01362868 -0.04267812 -0.01364873]\n",
      " [ 0.02411024 -0.07064469 -0.03571638  0.06437364 -0.03668827  0.00199258\n",
      "  -0.00626095 -0.03734475  0.0388655  -0.05407342]\n",
      " [-0.04761332 -0.05067226 -0.0207582   0.07921416  0.02298481  0.06437573\n",
      "   0.01618915 -0.0989859   0.00993272 -0.04117721]]\n",
      "[[ 0.02579132  0.02409345 -0.02276968 -0.00242594  0.00865859  0.06238936\n",
      "   0.04465438 -0.08655625 -0.07470164  0.0368619 ]\n",
      " [ 0.00012481 -0.01557183  0.00347435 -0.0284223   0.03589081  0.06485183\n",
      "   0.0850397  -0.04364432 -0.02802014 -0.00936752]\n",
      " [-0.00064648  0.02963273 -0.02571448 -0.00794167  0.02403644  0.06262967\n",
      "   0.0079889  -0.1036933   0.01755989  0.01556982]\n",
      " [-0.03129649  0.00662201  0.0190567   0.00373916  0.07203676  0.0942553\n",
      "   0.0536895  -0.08340526 -0.01847403 -0.0258278 ]\n",
      " [ 0.00799483  0.03827618 -0.01464146 -0.02690349  0.04109732  0.02946008\n",
      "   0.0434132  -0.02988399 -0.04148299  0.0001688 ]\n",
      " [-0.02407257  0.0242192   0.00322117  0.01445255  0.03629457  0.04492184\n",
      "   0.01264686  0.00337607 -0.06924248  0.00485693]\n",
      " [ 0.0195926  -0.01277938 -0.01713856  0.01092986  0.00159308  0.05377204\n",
      "   0.03379574 -0.04759736  0.01230115 -0.03556775]\n",
      " [-0.05213096  0.00719305 -0.00218039  0.02577038  0.06126616  0.11615519\n",
      "   0.05624584 -0.10923852 -0.01663163 -0.02267155]]\n"
     ]
    }
   ],
   "source": [
    "extractFeatures5(\"fakedata.txt\")"
   ]
  },
  {
   "cell_type": "code",
   "execution_count": 31,
   "metadata": {},
   "outputs": [],
   "source": [
    "def extractFeatures6(data):\n",
    "    data = np.loadtxt(data)\n",
    "    # feature 6: variance of each emotion \n",
    "    var_emotion = np.var(data, axis=0)\n",
    "    \n",
    "    print(var_emotion)\n",
    "    "
   ]
  },
  {
   "cell_type": "code",
   "execution_count": 32,
   "metadata": {},
   "outputs": [
    {
     "name": "stdout",
     "output_type": "stream",
     "text": [
      "[0.08094742 0.08587967 0.08195805 0.07992966 0.08257502 0.08854046\n",
      " 0.08197477 0.08364028 0.0823631  0.08309012]\n"
     ]
    }
   ],
   "source": [
    "extractFeatures6(\"fakedata.txt\")"
   ]
  },
  {
   "cell_type": "code",
   "execution_count": 6,
   "metadata": {},
   "outputs": [],
   "source": [
    "import pandas as pd\n",
    "import csv\n",
    "\n",
    "def makeToCSV():\n",
    "    for root, dirs, files in os.walk('parsed2_imsdb'):\n",
    "        for file in files:\n",
    "            if file != \".DS_Store\":\n",
    "                path = root + \"/\" + file                    \n",
    "                with open(path, 'r') as in_file:\n",
    "                    #lines = [\"sentence\"] + in_file.readlines()\n",
    "                    \n",
    "                    for line in lines.readlines():\n",
    "                        print(line)\n",
    "                    path_output = \"parsed3_imsdb/\" + root.split('/')[-1] + \"/\" + file + \".csv\";\n",
    "                    print(path_output)\n",
    "#                     with open(path_output + file + \".csv\", \"w\") as out_file:\n",
    "                        \n",
    "#                         writer = csv.writer(out_file)\n",
    "#                         writer.writerows(lines)\n",
    "            \n"
   ]
  },
  {
   "cell_type": "code",
   "execution_count": 7,
   "metadata": {},
   "outputs": [
    {
     "ename": "NameError",
     "evalue": "name 'lines' is not defined",
     "output_type": "error",
     "traceback": [
      "\u001b[0;31m---------------------------------------------------------------------------\u001b[0m",
      "\u001b[0;31mNameError\u001b[0m                                 Traceback (most recent call last)",
      "\u001b[0;32m<ipython-input-7-ff327f6cc352>\u001b[0m in \u001b[0;36m<module>\u001b[0;34m()\u001b[0m\n\u001b[0;32m----> 1\u001b[0;31m \u001b[0mmakeToCSV\u001b[0m\u001b[0;34m(\u001b[0m\u001b[0;34m)\u001b[0m\u001b[0;34m\u001b[0m\u001b[0m\n\u001b[0m",
      "\u001b[0;32m<ipython-input-6-8d39e484bfd6>\u001b[0m in \u001b[0;36mmakeToCSV\u001b[0;34m()\u001b[0m\n\u001b[1;32m     10\u001b[0m                     \u001b[0;31m#lines = [\"sentence\"] + in_file.readlines()\u001b[0m\u001b[0;34m\u001b[0m\u001b[0;34m\u001b[0m\u001b[0m\n\u001b[1;32m     11\u001b[0m \u001b[0;34m\u001b[0m\u001b[0m\n\u001b[0;32m---> 12\u001b[0;31m                     \u001b[0;32mfor\u001b[0m \u001b[0mline\u001b[0m \u001b[0;32min\u001b[0m \u001b[0mlines\u001b[0m\u001b[0;34m:\u001b[0m\u001b[0;34m\u001b[0m\u001b[0m\n\u001b[0m\u001b[1;32m     13\u001b[0m                         \u001b[0mprint\u001b[0m\u001b[0;34m(\u001b[0m\u001b[0mline\u001b[0m\u001b[0;34m)\u001b[0m\u001b[0;34m\u001b[0m\u001b[0m\n\u001b[1;32m     14\u001b[0m                     \u001b[0mpath_output\u001b[0m \u001b[0;34m=\u001b[0m \u001b[0;34m\"parsed3_imsdb/\"\u001b[0m \u001b[0;34m+\u001b[0m \u001b[0mroot\u001b[0m\u001b[0;34m.\u001b[0m\u001b[0msplit\u001b[0m\u001b[0;34m(\u001b[0m\u001b[0;34m'/'\u001b[0m\u001b[0;34m)\u001b[0m\u001b[0;34m[\u001b[0m\u001b[0;34m-\u001b[0m\u001b[0;36m1\u001b[0m\u001b[0;34m]\u001b[0m \u001b[0;34m+\u001b[0m \u001b[0;34m\"/\"\u001b[0m \u001b[0;34m+\u001b[0m \u001b[0mfile\u001b[0m \u001b[0;34m+\u001b[0m \u001b[0;34m\".csv\"\u001b[0m\u001b[0;34m;\u001b[0m\u001b[0;34m\u001b[0m\u001b[0m\n",
      "\u001b[0;31mNameError\u001b[0m: name 'lines' is not defined"
     ]
    }
   ],
   "source": [
    "makeToCSV()"
   ]
  },
  {
   "cell_type": "code",
   "execution_count": null,
   "metadata": {},
   "outputs": [],
   "source": []
  }
 ],
 "metadata": {
  "kernelspec": {
   "display_name": "Python 3",
   "language": "python",
   "name": "python3"
  },
  "language_info": {
   "codemirror_mode": {
    "name": "ipython",
    "version": 3
   },
   "file_extension": ".py",
   "mimetype": "text/x-python",
   "name": "python",
   "nbconvert_exporter": "python",
   "pygments_lexer": "ipython3",
   "version": "3.6.5"
  }
 },
 "nbformat": 4,
 "nbformat_minor": 2
}
