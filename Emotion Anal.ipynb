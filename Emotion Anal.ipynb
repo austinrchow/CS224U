{
 "cells": [
  {
   "cell_type": "markdown",
   "metadata": {},
   "source": [
    "# Emotion Analysis for Screenplays"
   ]
  },
  {
   "cell_type": "code",
   "execution_count": 48,
   "metadata": {},
   "outputs": [],
   "source": [
    "import os\n",
    "import re\n",
    "from nltk import tokenize\n",
    "from nltk import sent_tokenize\n"
   ]
  },
  {
   "cell_type": "code",
   "execution_count": 49,
   "metadata": {},
   "outputs": [],
   "source": [
    "def parse():\n",
    "    for root, dirs, files in os.walk('imsdb'):\n",
    "        for file in files:\n",
    "            if file != \".DS_Store\":\n",
    "                sentences = []\n",
    "                path = root + \"/\" + file\n",
    "                #print(file)\n",
    "                curr_string = \"\"\n",
    "                with open(path, 'r') as f:\n",
    "                    for line in f:\n",
    "                        line = line.strip() \n",
    "                        if len(line) > 1: \n",
    "                            sentence_parts_temp = re.sub(r'\\b[A-Z]+\\b', '', line)\n",
    "                            sentence_parts_temp = re.split(r\"[.!?]\", sentence_parts_temp)\n",
    "                            sentence_parts = []\n",
    "                            for sentence in sentence_parts_temp:\n",
    "                                sentence_parts.append(sentence.strip())\n",
    "                            sentence_parts = [x for x in sentence_parts if x]\n",
    "                            if len(sentence_parts) > 0:\n",
    "                                curr_string += \" \" + sentence_parts[0]\n",
    "                                curr_string = curr_string.strip()\n",
    "                                if len(sentence_parts) == 1:\n",
    "                                    if line.endswith(\".\") or line.endswith(\"?\") or line.endswith(\"!\") or line.endswith(\"...\"):\n",
    "                                        sentences.append(curr_string)\n",
    "                                        curr_string = \"\"\n",
    "                                else:\n",
    "                                    sentences.append(curr_string)\n",
    "                                    for i in range(1, len(sentence_parts)-1):\n",
    "                                        sentences.append(sentence_parts[i])\n",
    "                                    if line.endswith(\".\") or line.endswith(\"?\") or line.endswith(\"!\") or line.endswith(\"...\"):\n",
    "                                        sentences.append(sentence_parts[-1])\n",
    "                                        curr_string = \"\"\n",
    "                                    else:\n",
    "                                        curr_string = sentence_parts[-1]\n",
    "            \n",
    "                path_output = \"parsed_imsdb/\" + root.split('/')[-1] + \"/\" + file\n",
    "                #print(path_output)\n",
    "                with open(path_output, \"w\") as text_file:\n",
    "                    for sentence in sentences:\n",
    "                        print(\"{}\".format(sentence), file=text_file)\n",
    "\n"
   ]
  },
  {
   "cell_type": "code",
   "execution_count": 50,
   "metadata": {},
   "outputs": [],
   "source": [
    "parse()"
   ]
  },
  {
   "cell_type": "code",
   "execution_count": null,
   "metadata": {},
   "outputs": [],
   "source": []
  }
 ],
 "metadata": {
  "kernelspec": {
   "display_name": "Python 3",
   "language": "python",
   "name": "python3"
  },
  "language_info": {
   "codemirror_mode": {
    "name": "ipython",
    "version": 3
   },
   "file_extension": ".py",
   "mimetype": "text/x-python",
   "name": "python",
   "nbconvert_exporter": "python",
   "pygments_lexer": "ipython3",
   "version": "3.6.5"
  }
 },
 "nbformat": 4,
 "nbformat_minor": 2
}
