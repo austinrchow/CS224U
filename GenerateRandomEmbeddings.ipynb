{
 "cells": [
  {
   "cell_type": "code",
   "execution_count": 2,
   "metadata": {},
   "outputs": [],
   "source": [
    "import numpy as np"
   ]
  },
  {
   "cell_type": "code",
   "execution_count": 8,
   "metadata": {},
   "outputs": [],
   "source": [
    "fakedata = np.random.rand(1000,10)\n",
    "np.savetxt(\"fakedata.txt\", fakedata)"
   ]
  },
  {
   "cell_type": "code",
   "execution_count": 9,
   "metadata": {},
   "outputs": [
    {
     "data": {
      "text/plain": [
       "array([[0.74228342, 0.32989343, 0.83730419, ..., 0.34015198, 0.32144554,\n",
       "        0.10650992],\n",
       "       [0.20836615, 0.90230588, 0.46647476, ..., 0.96590414, 0.48062453,\n",
       "        0.80028742],\n",
       "       [0.66611853, 0.10377089, 0.47691896, ..., 0.87467806, 0.61856824,\n",
       "        0.42593109],\n",
       "       ...,\n",
       "       [0.23966005, 0.45903633, 0.74584823, ..., 0.89054694, 0.06171853,\n",
       "        0.14926646],\n",
       "       [0.58130343, 0.85433246, 0.42575186, ..., 0.68366207, 0.62869602,\n",
       "        0.36246153],\n",
       "       [0.45074624, 0.1317637 , 0.21839418, ..., 0.77704514, 0.30335159,\n",
       "        0.68943057]])"
      ]
     },
     "execution_count": 9,
     "metadata": {},
     "output_type": "execute_result"
    }
   ],
   "source": [
    "np.loadtxt(\"fakedata.txt\")"
   ]
  },
  {
   "cell_type": "code",
   "execution_count": null,
   "metadata": {},
   "outputs": [],
   "source": []
  }
 ],
 "metadata": {
  "kernelspec": {
   "display_name": "Python 3",
   "language": "python",
   "name": "python3"
  },
  "language_info": {
   "codemirror_mode": {
    "name": "ipython",
    "version": 3
   },
   "file_extension": ".py",
   "mimetype": "text/x-python",
   "name": "python",
   "nbconvert_exporter": "python",
   "pygments_lexer": "ipython3",
   "version": "3.6.5"
  }
 },
 "nbformat": 4,
 "nbformat_minor": 2
}
