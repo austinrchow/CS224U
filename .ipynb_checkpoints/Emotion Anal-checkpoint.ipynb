{
 "cells": [
  {
   "cell_type": "markdown",
   "metadata": {},
   "source": [
    "# Emotion Analysis for Screenplays"
   ]
  },
  {
   "cell_type": "code",
   "execution_count": 3,
   "metadata": {},
   "outputs": [],
   "source": [
    "import os\n",
    "import re\n",
    "from nltk import tokenize\n",
    "from nltk import sent_tokenize\n"
   ]
  },
  {
   "cell_type": "code",
   "execution_count": 23,
   "metadata": {},
   "outputs": [],
   "source": [
    "def parse():\n",
    "    #for root, dirs, files in os.walk('imsdb'):\n",
    "        #for file in files:\n",
    "         #   file = root + \"/\" + file\n",
    "    sentences = []\n",
    "    curr_string = \"\"\n",
    "    file = \"imsdb/Action/15minutes.txt\"\n",
    "    with open(file, 'r') as f:\n",
    "        for line in f:\n",
    "            line = line.strip() \n",
    "            if len(line) > 1: \n",
    "                sentence_parts_temp = re.sub(r'\\b[A-Z]+\\b', '', line)\n",
    "                sentence_parts_temp = re.split(r\"[.!?]\", sentence_parts_temp)\n",
    "                #print(sentence_parts_temp)\n",
    "                sentence_parts = []\n",
    "                for sentence in sentence_parts_temp:\n",
    "                    sentence_parts.append(sentence.strip())\n",
    "                #print(sentence_parts)\n",
    "                sentence_parts = [x for x in sentence_parts if x]\n",
    "                if len(sentence_parts) > 0:\n",
    "                    curr_string += \" \" + sentence_parts[0]\n",
    "                    if len(sentence_parts) == 1:\n",
    "                        if line.endswith(\".\"):\n",
    "                            sentences.append(curr_string)\n",
    "                            curr_string = \"\"\n",
    "                    else:\n",
    "                        sentences.append(curr_string)\n",
    "                        for i in range(1, len(sentence_parts)-1):\n",
    "                            sentences.append(sentence_parts[i])\n",
    "                        if line.endswith(\".\"):\n",
    "                            sentences.append(sentence_parts[-1])\n",
    "                            curr_string = \"\"\n",
    "                        else:\n",
    "                            curr_string = sentence_parts[-1]\n",
    "                \n",
    "                \n",
    "                \n",
    "                \n",
    "                \n",
    "                \n",
    "                \n",
    "                \n",
    "                \n",
    "                #print(\"\\n\\n\\nSentence parts: \", sentence_parts)\n",
    "                #print(\"curr_string before appending: \" + curr_string)\n",
    "                #curr_string += sentence_parts[0]\n",
    "                #print(\"curr_string after appending: \" + curr_string)\n",
    "                #if len(sentence_parts) > 1:\n",
    "                 #   sentences.append(curr_string)\n",
    "                  #  added = True\n",
    "               \n",
    "                   # added = True\n",
    "                #if line.endswith(\".\"):\n",
    "                 #   sentences.append(curr_string)\n",
    "                  #  curr_string = \"\"\n",
    "                #else:\n",
    "                 #   if added:\n",
    "                  #      curr_string = sentence_parts[-1] + \" \"\n",
    "                   # else:\n",
    "                    #    curr_string += \" \" + sentence_parts[-1] + \" \"\n",
    "                #print(\"curr_string after line operations\" + curr_string)\n",
    "        for sentence in sentences:\n",
    "            print(sentence)\n",
    "                    \n",
    "                    \n",
    "                    \n",
    "                    #treat special cases: Dr. etc, also INT./EXT.\n",
    "                    #add punctuation too not just periods .?\n",
    "                    #delete screenplay format stuff (V.O.), parenthesis\n",
    "                "
   ]
  },
  {
   "cell_type": "code",
   "execution_count": 24,
   "metadata": {},
   "outputs": [
    {
     "ename": "IndexError",
     "evalue": "list index out of range",
     "output_type": "error",
     "traceback": [
      "\u001b[0;31m---------------------------------------------------------------------------\u001b[0m",
      "\u001b[0;31mIndexError\u001b[0m                                Traceback (most recent call last)",
      "\u001b[0;32m<ipython-input-24-107f7671093c>\u001b[0m in \u001b[0;36m<module>\u001b[0;34m\u001b[0m\n\u001b[0;32m----> 1\u001b[0;31m \u001b[0mparse\u001b[0m\u001b[0;34m(\u001b[0m\u001b[0;34m)\u001b[0m\u001b[0;34m\u001b[0m\u001b[0;34m\u001b[0m\u001b[0m\n\u001b[0m",
      "\u001b[0;32m<ipython-input-23-ee544ead5f30>\u001b[0m in \u001b[0;36mparse\u001b[0;34m()\u001b[0m\n\u001b[1;32m     18\u001b[0m                 \u001b[0;31m#print(sentence_parts)\u001b[0m\u001b[0;34m\u001b[0m\u001b[0;34m\u001b[0m\u001b[0;34m\u001b[0m\u001b[0m\n\u001b[1;32m     19\u001b[0m                 \u001b[0msentence_parts\u001b[0m \u001b[0;34m=\u001b[0m \u001b[0;34m[\u001b[0m\u001b[0mx\u001b[0m \u001b[0;32mfor\u001b[0m \u001b[0mx\u001b[0m \u001b[0;32min\u001b[0m \u001b[0msentence_parts\u001b[0m \u001b[0;32mif\u001b[0m \u001b[0mx\u001b[0m\u001b[0;34m]\u001b[0m\u001b[0;34m\u001b[0m\u001b[0;34m\u001b[0m\u001b[0m\n\u001b[0;32m---> 20\u001b[0;31m                 \u001b[0mcurr_string\u001b[0m \u001b[0;34m+=\u001b[0m \u001b[0;34m\" \"\u001b[0m \u001b[0;34m+\u001b[0m \u001b[0msentence_parts\u001b[0m\u001b[0;34m[\u001b[0m\u001b[0;36m0\u001b[0m\u001b[0;34m]\u001b[0m\u001b[0;34m\u001b[0m\u001b[0;34m\u001b[0m\u001b[0m\n\u001b[0m\u001b[1;32m     21\u001b[0m                 \u001b[0;32mif\u001b[0m \u001b[0mlen\u001b[0m\u001b[0;34m(\u001b[0m\u001b[0msentence_parts\u001b[0m\u001b[0;34m)\u001b[0m \u001b[0;34m==\u001b[0m \u001b[0;36m1\u001b[0m\u001b[0;34m:\u001b[0m\u001b[0;34m\u001b[0m\u001b[0;34m\u001b[0m\u001b[0m\n\u001b[1;32m     22\u001b[0m                     \u001b[0;32mif\u001b[0m \u001b[0mline\u001b[0m\u001b[0;34m.\u001b[0m\u001b[0mendswith\u001b[0m\u001b[0;34m(\u001b[0m\u001b[0;34m\".\"\u001b[0m\u001b[0;34m)\u001b[0m\u001b[0;34m:\u001b[0m\u001b[0;34m\u001b[0m\u001b[0;34m\u001b[0m\u001b[0m\n",
      "\u001b[0;31mIndexError\u001b[0m: list index out of range"
     ]
    }
   ],
   "source": [
    "parse()"
   ]
  },
  {
   "cell_type": "code",
   "execution_count": null,
   "metadata": {},
   "outputs": [],
   "source": []
  }
 ],
 "metadata": {
  "kernelspec": {
   "display_name": "Python 3",
   "language": "python",
   "name": "python3"
  },
  "language_info": {
   "codemirror_mode": {
    "name": "ipython",
    "version": 3
   },
   "file_extension": ".py",
   "mimetype": "text/x-python",
   "name": "python",
   "nbconvert_exporter": "python",
   "pygments_lexer": "ipython3",
   "version": "3.7.3"
  }
 },
 "nbformat": 4,
 "nbformat_minor": 2
}
