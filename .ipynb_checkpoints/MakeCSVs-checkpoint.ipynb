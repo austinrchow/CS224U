{
 "cells": [
  {
   "cell_type": "code",
   "execution_count": 152,
   "metadata": {},
   "outputs": [
    {
     "name": "stdout",
     "output_type": "stream",
     "text": [
      "['.DS_Store', 'imsdb_raw_nov_2015']\n"
     ]
    }
   ],
   "source": [
    "import pandas as pd\n",
    "import numpy as np\n",
    "import re\n",
    "# import seaborn as sns\n",
    "# import matplotlib.pyplot as plt\n",
    "\n",
    "import os\n",
    "print(os.listdir(\"data\"))\n",
    "# %matplotlib inline"
   ]
  },
  {
   "cell_type": "code",
   "execution_count": 153,
   "metadata": {},
   "outputs": [],
   "source": [
    "DATA_FOLDER = \"data/imsdb_raw_nov_2015/\""
   ]
  },
  {
   "cell_type": "code",
   "execution_count": 166,
   "metadata": {},
   "outputs": [],
   "source": [
    "films = {}\n",
    "scripts = {}\n",
    "for genre in list(os.listdir(DATA_FOLDER)):\n",
    "        if not genre.endswith(\".DS_Store\"):\n",
    "            genre_folder = DATA_FOLDER + genre\n",
    "            for i, film in enumerate(list(os.listdir(genre_folder))):\n",
    "                if film.endswith('.txt'):\n",
    "                    with open(genre_folder + '/' + film, 'r') as file:\n",
    "                        data = file.read().replace('\\n', '').replace('\\t', '').replace('\\'', ''')\n",
    "                        data = re.sub(' +',' ',data)\n",
    "                    if film[:-4] in films: \n",
    "                        films[film[:-4]].append(genre)\n",
    "                        scripts[film[:-4]].append(data)\n",
    "                    else:\n",
    "                        films[film[:-4]] = [genre]\n",
    "                        scripts[film[:-4]] = [data]\n",
    "\n",
    "# print(scripts)"
   ]
  },
  {
   "cell_type": "code",
   "execution_count": 164,
   "metadata": {},
   "outputs": [],
   "source": [
    "out = []\n",
    "outS = []\n",
    "for i, film in enumerate(films):\n",
    "    outS.append([i,scripts[film]])\n",
    "    for genre in films[film]:\n",
    "        out.append([i,genre])\n",
    "out = [[\"Id\", \"Tag\"]] + out        \n",
    "outS = [[\"Id\", \"Body\"]] + outS\n",
    "# print(out)"
   ]
  },
  {
   "cell_type": "code",
   "execution_count": 165,
   "metadata": {},
   "outputs": [],
   "source": [
    "import csv\n",
    "\n",
    "with open('tags.csv', 'w') as myfile:\n",
    "    wr = csv.writer(myfile)\n",
    "    wr.writerows(r+[\"\"] for r in out)\n",
    "    \n",
    "with open('scripts.csv', 'w') as myfile:\n",
    "    wr = csv.writer(myfile)\n",
    "    wr.writerows(r + [\"\"] for r in outS)\n"
   ]
  },
  {
   "cell_type": "code",
   "execution_count": null,
   "metadata": {},
   "outputs": [],
   "source": []
  }
 ],
 "metadata": {
  "kernelspec": {
   "display_name": "Python 3",
   "language": "python",
   "name": "python3"
  },
  "language_info": {
   "codemirror_mode": {
    "name": "ipython",
    "version": 3
   },
   "file_extension": ".py",
   "mimetype": "text/x-python",
   "name": "python",
   "nbconvert_exporter": "python",
   "pygments_lexer": "ipython3",
   "version": "3.6.5"
  },
  "widgets": {
   "state": {},
   "version": "1.1.2"
  }
 },
 "nbformat": 4,
 "nbformat_minor": 2
}
